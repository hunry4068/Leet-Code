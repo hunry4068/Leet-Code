{
 "cells": [
  {
   "cell_type": "markdown",
   "metadata": {},
   "source": [
    "# Leetcode Problems"
   ]
  },
  {
   "cell_type": "markdown",
   "metadata": {},
   "source": [
    "# 345. Reverse Vowels of a String / Easy"
   ]
  },
  {
   "cell_type": "code",
   "execution_count": 15,
   "metadata": {},
   "outputs": [
    {
     "name": "stdout",
     "output_type": "stream",
     "text": [
      "wiwimoma\n",
      "wiwimoma\n"
     ]
    }
   ],
   "source": [
    "import re\n",
    "\n",
    "class Solution:\n",
    "    # original sol\n",
    "    def reverseVowels_mine(self, s: str) -> str:\n",
    "        keys = ['a', 'e', 'i', 'o', 'u']\n",
    "        chars = list(s) #list of char from str\n",
    "        vowels = []\n",
    "        result = chars\n",
    "        \n",
    "        # 1. find vowels, put them into a ordinary list as key-value structure e.g. tuple(idx, val)\n",
    "        for idx, char in enumerate(chars): #enumerate with loop get index and value\n",
    "            if char.lower() in keys: #str.lower()/str.upper() then apply 'in' keyword \n",
    "                vowels.append((idx, char))\n",
    "        \n",
    "        # 2. loop vowels and use the index to replace value by the opposit item \n",
    "        for idx, pair in enumerate(vowels):\n",
    "            # replace_item = vowels[len(vowels) - 1 - idx]\n",
    "            replace_item = vowels[-(idx + 1)][1]\n",
    "            result[pair[0]] = replace_item\n",
    "\n",
    "        return ''.join(result) #join list into str by empty str\n",
    "        \n",
    "    # leetcode commu recommended sol\n",
    "    def reverseVowels_ref(self, s: str) -> str:\n",
    "        reg = vowel_str = 'aeiouAEIOU'\n",
    "        rps = (vwl for vwl in reversed(s) if vwl in vowel_str)\n",
    "        return re.sub(r'[{}]'.format(vowel_str), lambda m: next(rps), s)\n",
    "\n",
    "# test\n",
    "sol = Solution()\n",
    "print(sol.reverseVowels_mine('wawomimi'))\n",
    "print(sol.reverseVowels_ref('wawomimi'))"
   ]
  },
  {
   "cell_type": "markdown",
   "metadata": {},
   "source": [
    "# 1094. Car Pooling / Medium"
   ]
  },
  {
   "cell_type": "code",
   "execution_count": 16,
   "metadata": {},
   "outputs": [
    {
     "name": "stdout",
     "output_type": "stream",
     "text": [
      "1\n",
      "2\n",
      "3\n"
     ]
    }
   ],
   "source": [
    "l = [1,2,3]\n",
    "a,b,c = l\n",
    "print(a)\n",
    "print(b)\n",
    "print(c)"
   ]
  },
  {
   "cell_type": "code",
   "execution_count": 17,
   "metadata": {},
   "outputs": [
    {
     "name": "stdout",
     "output_type": "stream",
     "text": [
      "True\n"
     ]
    }
   ],
   "source": [
    "from typing import List\n",
    "\n",
    "class Solution:\n",
    "    def carPooling_mine(self, trips: List[List[int]], capacity: int) -> bool:\n",
    "        check = {} # {dist: passangers}\n",
    "        flag = True\n",
    "        \n",
    "        round = 0\n",
    "        trips_len = len(trips)\n",
    "        while flag and round < trips_len:\n",
    "            trip = trips[round]\n",
    "            psg, now, stop = trip\n",
    "            if psg > capacity: flag = False\n",
    "            \n",
    "            while flag and now < stop:\n",
    "                if now in check.keys():\n",
    "                    check[now] += psg\n",
    "                    if check[now] > capacity: flag = False\n",
    "                else: check[now] = psg\n",
    "                \n",
    "                now += 1\n",
    "                \n",
    "            round += 1\n",
    "\n",
    "        return flag\n",
    "    \n",
    "    def carPooling_ref(self, trips: List[List[int]], capacity: int) -> bool:\n",
    "        \n",
    "        locations = [0 for _ in range(1001)]\n",
    "        \n",
    "        for psg, f, t in trips:\n",
    "            locations[f] += psg\n",
    "            locations[t] -= psg\n",
    "            \n",
    "        for loading in locations:\n",
    "            capacity -= loading\n",
    "            if capacity < 0: return False\n",
    "            \n",
    "        return True\n",
    "\n",
    "# test\n",
    "sol = Solution()\n",
    "print(sol.carPooling_mine([[2, 1, 3], [3, 3, 6], [1, 5, 7]], 4))"
   ]
  },
  {
   "cell_type": "markdown",
   "metadata": {},
   "source": [
    "# 1022. Sum of Root To Leaf Binary Numbers / Easy#"
   ]
  },
  {
   "cell_type": "code",
   "execution_count": 18,
   "metadata": {},
   "outputs": [],
   "source": [
    "# stupid practice of thinking the sol by misunstood the tree input structure as array \n",
    "# but worth to note\n",
    "from typing import Optional\n",
    "\n",
    "# Definition for a binary tree node.\n",
    "class TreeNode:\n",
    "    def __init__(self, val=0, left=None, right=None):\n",
    "        self.val = val\n",
    "        self.left = left\n",
    "        self.right = right\n",
    "        \n",
    "class Solution:\n",
    "    def sumRootToLeaf(self, root: Optional[TreeNode]) -> int:\n",
    "        route_list = [] #list[list[int]]\n",
    "        self.get_route(root, route_list, 1, [])\n",
    "        \n",
    "        result = 0\n",
    "        for route in route_list:\n",
    "            result += self.bitwise_count(route)\n",
    "        \n",
    "        print(result)\n",
    "        \n",
    "    def get_route(self, data, list, node_idx, route):\n",
    "        \n",
    "        # preorder travelse:\n",
    "        # node = data[node_idx]\n",
    "        # left_tree = self.get_route(data, node.left) if node.left else []\n",
    "        # right_tree = self.get_route(data, node.right) if node.right else []\n",
    "        # return [node.val] + left_tree + right_tree\n",
    "        \n",
    "        # separate from root-left-right to root-left and root-right\n",
    "        # then get left and right routes when they arrive leaf\n",
    "        \n",
    "        node = data[node_idx]\n",
    "        route.append(node.val)\n",
    "        # boundry condition: if node is leaf then append route into list and return\n",
    "        if node.left == None and node.right == None:\n",
    "            list.append(route)\n",
    "            return\n",
    "        \n",
    "        if node.left != None:\n",
    "            self.get_route(data, list, node.left, route)\n",
    "            \n",
    "        if node.right != None:\n",
    "            self.get_route(data, list, node.right, route)\n",
    "        \n",
    "    def bitwise_count(self, route):\n",
    "        sum, step, route_len = 0, 0, len(route)\n",
    "        \n",
    "        # len(route) will be updated by pop() in while loop but won't in for loop\n",
    "        while step < route_len:\n",
    "            sum += route.pop() * (2 ** step)\n",
    "            step += 1\n",
    "            \n",
    "        print('sum of route {} is {}'.format(route, sum))\n",
    "        return sum"
   ]
  },
  {
   "cell_type": "code",
   "execution_count": 19,
   "metadata": {},
   "outputs": [
    {
     "name": "stdout",
     "output_type": "stream",
     "text": [
      "this node is 0, current sum is 0\n"
     ]
    }
   ],
   "source": [
    "from typing import Optional\n",
    "\n",
    "# Definition for a binary tree node.\n",
    "class TreeNode:\n",
    "    def __init__(self, val=0, left=None, right=None):\n",
    "        self.val = val\n",
    "        self.left = left\n",
    "        self.right = right\n",
    "        \n",
    "class Solution:\n",
    "    def sumRootToLeaf(self, root: Optional[TreeNode]) -> int:\n",
    "        \n",
    "        # can define a total variable instead of return the cur_sum,\n",
    "        # but the recur need to be a sub-method in sumRootToLeaf,\n",
    "        # then we can use 'nonlocal' prefix to access total variable in recur\n",
    "        \n",
    "        return self.recur(root, 0)\n",
    "    \n",
    "    def recur(self, data, cur_sum):\n",
    "        if data:\n",
    "            print('this node is {}, current sum is {}'.format(data.val, cur_sum))\n",
    "            cur_sum = cur_sum * 2 + data.val\n",
    "            \n",
    "            if data.left and data.right:\n",
    "                return self.recur(data.left, cur_sum) + self.recur(data.right, cur_sum)\n",
    "            elif data.left:\n",
    "                return self.recur(data.left, cur_sum)\n",
    "            elif data.right:\n",
    "                return self.recur(data.right, cur_sum)\n",
    "        \n",
    "        return cur_sum\n",
    "    \n",
    "# test\n",
    "root = TreeNode()\n",
    "sol = Solution().sumRootToLeaf(root)\n"
   ]
  },
  {
   "cell_type": "markdown",
   "metadata": {},
   "source": [
    "# 867. Transpose Matrix / Easy"
   ]
  },
  {
   "cell_type": "code",
   "execution_count": 21,
   "metadata": {},
   "outputs": [
    {
     "name": "stdout",
     "output_type": "stream",
     "text": [
      "[[1, 4, 7], [2, 5, 8], [3, 6, 9]]\n"
     ]
    }
   ],
   "source": [
    "from typing import List\n",
    "\n",
    "class Solution:\n",
    "    def transpose(self, matrix: List[List[int]]) -> List[List[int]]:\n",
    "        row_len, col_len = len(matrix), len(matrix[0])\n",
    "        result = [[None] * row_len for new_row in range(col_len)]\n",
    "\n",
    "        # slower\n",
    "        # for r in range(col_len):\n",
    "        #     result[r] = [matrix[c][r] for c in range(row_len)]\n",
    "\n",
    "        for c in range(col_len):\n",
    "            for r in range(row_len):\n",
    "                result[c][r] = matrix[r][c]\n",
    "\n",
    "        return result\n",
    "\n",
    "    def transpose_square(self, matrix: List[List[int]]) -> List[List[int]]:\n",
    "        row_len = len(matrix)\n",
    "        col_len = len(matrix[0])\n",
    "\n",
    "        for r in range(row_len):\n",
    "            for c in range(col_len):\n",
    "                # swap when c > r\n",
    "                if c > r:\n",
    "                    matrix[c][r] = matrix[r][c]\n",
    "        return matrix\n",
    "\n",
    "\n",
    "sol = Solution()\n",
    "test = sol.transpose([[1, 2, 3], [4, 5, 6], [7, 8, 9]])\n",
    "# test = sol.transpose_square([[1, 2, 3], [4, 5, 6], [7, 8, 9]])\n",
    "print(test)"
   ]
  },
  {
   "cell_type": "markdown",
   "metadata": {},
   "source": [
    "# 51. N-Queens / Hard#"
   ]
  },
  {
   "cell_type": "code",
   "execution_count": null,
   "metadata": {},
   "outputs": [],
   "source": [
    "class Solution:\n",
    "    def solveNQueens(self, n: int) -> list[list[str]]:\n",
    "        result = []  # [1, 3, 0, 2]\n",
    "        sol = []\n",
    "\n",
    "        for row in range(n):\n",
    "\n",
    "            for col in range(n):\n",
    "                if (self.isUnderAttact(col, row, sol)):\n",
    "                    sol.append(col)\n",
    "                    break\n",
    "                else:\n",
    "                    continue\n",
    "\n",
    "        # start from row 0 to n-1\n",
    "        # for row in range(n):\n",
    "\n",
    "        # pre_result = [[0,1,2], [1,0,2]]\n",
    "        #1. for y in 0-n\n",
    "        #2. for x in 0-n call test then add to sub_list / break\n",
    "\n",
    "    def isUnderAttact(self, x: int, y: int, queen_list: list[int]) -> bool:\n",
    "        len = len(queen_list)\n",
    "\n",
    "        # streight look up\n",
    "        if x in queen_list:\n",
    "            return False\n",
    "\n",
    "        step = 1\n",
    "        while step <= y:\n",
    "            row = y - step\n",
    "\n",
    "            # left look up\n",
    "            if len(queen_list) > row and queen_list[row] == x - step:\n",
    "                return False\n",
    "\n",
    "            # right look up\n",
    "            if len(queen_list) > row and queen_list[row] == x + step:\n",
    "                return False\n",
    "\n",
    "            step += 1\n",
    "\n",
    "        return True\n"
   ]
  },
  {
   "cell_type": "markdown",
   "metadata": {},
   "source": [
    "# 167. Two Sum II - Input Array Is Sorted / Medium"
   ]
  },
  {
   "cell_type": "code",
   "execution_count": 26,
   "metadata": {},
   "outputs": [
    {
     "name": "stdout",
     "output_type": "stream",
     "text": [
      "[2, 3]\n",
      "[1, 2]\n"
     ]
    }
   ],
   "source": [
    "from typing import List\n",
    "\n",
    "class Solution:\n",
    "    def twoSum(self, numbers: List[int], target: int) -> List[int]:\n",
    "        for idx in range(len(numbers)):\n",
    "            if idx != len(numbers) - 1:\n",
    "                partner_Idx = self.binarySearch(numbers, idx + 1, len(numbers) - 1, target - numbers[idx])\n",
    "\n",
    "                if partner_Idx != -1:\n",
    "                    return [x + 1 for x in [idx, partner_Idx]]\n",
    "            else:\n",
    "                return [0]\n",
    "            \n",
    "    def binarySearch(self, arr: List[int], left: int, right: int, key: int) -> int:\n",
    "        if right >= left:\n",
    "            mid = left + (right - left) // 2\n",
    "            if arr[mid] == key: return mid\n",
    "            if arr[mid] > key: return self.binarySearch(arr, left, mid - 1, key)\n",
    "            if arr[mid] < key: return self.binarySearch(arr, mid + 1, right, key)\n",
    "        else:\n",
    "            return -1\n",
    "\n",
    "    def twoSum_better(self, numbers: List[int], target: int) -> List[int]:\n",
    "        idx1, idx2 = 0, len(numbers) - 1\n",
    "        \n",
    "        while idx1 < idx2:\n",
    "            sum = numbers[idx1] + numbers[idx2]\n",
    "            if sum == target:\n",
    "                return [x + 1 for x in [idx1, idx2]]\n",
    "            if sum < target:\n",
    "                idx1 += 1\n",
    "            else:\n",
    "                idx2 -= 1\n",
    "        \n",
    "\n",
    "# test\n",
    "sol = Solution()\n",
    "# print(sol.twoSum([2, 7, 11, 15], 9))\n",
    "# print(sol.twoSum([2, 3, 4], 6))\n",
    "# print(sol.twoSum([-1, 0], -1))\n",
    "print(sol.twoSum_better([0, 0, 3, 4], 0))"
   ]
  },
  {
   "cell_type": "markdown",
   "metadata": {},
   "source": [
    "# 1. Two Sum / Easy"
   ]
  },
  {
   "cell_type": "code",
   "execution_count": 38,
   "metadata": {},
   "outputs": [
    {
     "name": "stdout",
     "output_type": "stream",
     "text": [
      "[0, 1]\n",
      "[1, 2]\n"
     ]
    }
   ],
   "source": [
    "from typing import List\n",
    "\n",
    "class Solution:\n",
    "    def twoSum(self, nums: List[int], target: int) -> List[int]:\n",
    "        dic = {}\n",
    "        for idx in range(len(nums)):\n",
    "            next_val = target - nums[idx]\n",
    "            if nums[idx] in dic:\n",
    "                return [dic[nums[idx]], idx]\n",
    "            else:\n",
    "                dic[next_val] = idx\n",
    "\n",
    "# test\n",
    "sol = Solution()\n",
    "print(sol.twoSum([2,7,11,15], 9))\n",
    "print(sol.twoSum([3, 2, 4], 6))"
   ]
  },
  {
   "cell_type": "markdown",
   "metadata": {},
   "source": [
    "# 3. Longest Substring Without Repeating Characters / Medium"
   ]
  },
  {
   "cell_type": "code",
   "execution_count": 50,
   "metadata": {},
   "outputs": [
    {
     "name": "stdout",
     "output_type": "stream",
     "text": [
      "3\n",
      "0\n",
      "1\n",
      "3\n"
     ]
    }
   ],
   "source": [
    "class Solution:\n",
    "    def lengthOfLongestSubstring(self, s: str) -> int:\n",
    "        left = right = temp_len = max_len = 0\n",
    "        ch_dic = {}\n",
    "        \n",
    "        while right < len(s):\n",
    "            if s[right] in ch_dic and ch_dic[s[right]]:\n",
    "                ch_dic[s[left]] = False\n",
    "                left += 1\n",
    "            else:\n",
    "                ch_dic[s[right]] = True\n",
    "                right += 1\n",
    "                \n",
    "                temp_len = right - left\n",
    "                if temp_len > max_len:\n",
    "                    max_len = temp_len\n",
    "        \n",
    "        return max_len\n",
    "        \n",
    "# test\n",
    "sol = Solution()\n",
    "print(sol.lengthOfLongestSubstring(\"abcabcbb\"))\n",
    "print(sol.lengthOfLongestSubstring(\"\"))\n",
    "print(sol.lengthOfLongestSubstring(\"bbbbb\"))\n",
    "print(sol.lengthOfLongestSubstring(\"pwwkew\"))"
   ]
  }
 ],
 "metadata": {
  "interpreter": {
   "hash": "ddd249a19a5a8256c1b4ef01c1f4ec5080b1ce9b0adc4e0df1ac5fed1c1f55cb"
  },
  "kernelspec": {
   "display_name": "Python 3.10.4 64-bit ('venv-leetcode')",
   "language": "python",
   "name": "python3"
  },
  "language_info": {
   "codemirror_mode": {
    "name": "ipython",
    "version": 3
   },
   "file_extension": ".py",
   "mimetype": "text/x-python",
   "name": "python",
   "nbconvert_exporter": "python",
   "pygments_lexer": "ipython3",
   "version": "3.10.4"
  },
  "orig_nbformat": 4
 },
 "nbformat": 4,
 "nbformat_minor": 2
}
