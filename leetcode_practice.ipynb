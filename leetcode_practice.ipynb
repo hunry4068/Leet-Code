{
 "cells": [
  {
   "cell_type": "markdown",
   "metadata": {},
   "source": [
    "# Leetcode Problems"
   ]
  },
  {
   "cell_type": "markdown",
   "metadata": {},
   "source": [
    "##### 0345. Reverse Vowels of a String / Easy"
   ]
  },
  {
   "cell_type": "code",
   "execution_count": 15,
   "metadata": {},
   "outputs": [
    {
     "name": "stdout",
     "output_type": "stream",
     "text": [
      "wiwimoma\n",
      "wiwimoma\n"
     ]
    }
   ],
   "source": [
    "import re\n",
    "\n",
    "class Solution:\n",
    "    # original sol\n",
    "    def reverseVowels_mine(self, s: str) -> str:\n",
    "        keys = ['a', 'e', 'i', 'o', 'u']\n",
    "        chars = list(s) #list of char from str\n",
    "        vowels = []\n",
    "        result = chars\n",
    "        \n",
    "        # 1. find vowels, put them into a ordinary list as key-value structure e.g. tuple(idx, val)\n",
    "        for idx, char in enumerate(chars): #enumerate with loop get index and value\n",
    "            if char.lower() in keys: #str.lower()/str.upper() then apply 'in' keyword \n",
    "                vowels.append((idx, char))\n",
    "        \n",
    "        # 2. loop vowels and use the index to replace value by the opposit item \n",
    "        for idx, pair in enumerate(vowels):\n",
    "            # replace_item = vowels[len(vowels) - 1 - idx]\n",
    "            replace_item = vowels[-(idx + 1)][1]\n",
    "            result[pair[0]] = replace_item\n",
    "\n",
    "        return ''.join(result) #join list into str by empty str\n",
    "        \n",
    "    # leetcode commu recommended sol\n",
    "    def reverseVowels_ref(self, s: str) -> str:\n",
    "        reg = vowel_str = 'aeiouAEIOU'\n",
    "        rps = (vwl for vwl in reversed(s) if vwl in vowel_str)\n",
    "        return re.sub(r'[{}]'.format(vowel_str), lambda m: next(rps), s)\n",
    "\n",
    "# test\n",
    "sol = Solution()\n",
    "print(sol.reverseVowels_mine('wawomimi'))\n",
    "print(sol.reverseVowels_ref('wawomimi'))"
   ]
  },
  {
   "cell_type": "markdown",
   "metadata": {},
   "source": [
    "##### 1094. Car Pooling / Medium"
   ]
  },
  {
   "cell_type": "code",
   "execution_count": 16,
   "metadata": {},
   "outputs": [
    {
     "name": "stdout",
     "output_type": "stream",
     "text": [
      "1\n",
      "2\n",
      "3\n"
     ]
    }
   ],
   "source": [
    "l = [1,2,3]\n",
    "a,b,c = l\n",
    "print(a)\n",
    "print(b)\n",
    "print(c)"
   ]
  },
  {
   "cell_type": "code",
   "execution_count": 17,
   "metadata": {},
   "outputs": [
    {
     "name": "stdout",
     "output_type": "stream",
     "text": [
      "True\n"
     ]
    }
   ],
   "source": [
    "from typing import List\n",
    "\n",
    "class Solution:\n",
    "    def carPooling_mine(self, trips: List[List[int]], capacity: int) -> bool:\n",
    "        check = {} # {dist: passangers}\n",
    "        flag = True\n",
    "        \n",
    "        round = 0\n",
    "        trips_len = len(trips)\n",
    "        while flag and round < trips_len:\n",
    "            trip = trips[round]\n",
    "            psg, now, stop = trip\n",
    "            if psg > capacity: flag = False\n",
    "            \n",
    "            while flag and now < stop:\n",
    "                if now in check.keys():\n",
    "                    check[now] += psg\n",
    "                    if check[now] > capacity: flag = False\n",
    "                else: check[now] = psg\n",
    "                \n",
    "                now += 1\n",
    "                \n",
    "            round += 1\n",
    "\n",
    "        return flag\n",
    "    \n",
    "    def carPooling_ref(self, trips: List[List[int]], capacity: int) -> bool:\n",
    "        \n",
    "        locations = [0 for _ in range(1001)]\n",
    "        \n",
    "        for psg, f, t in trips:\n",
    "            locations[f] += psg\n",
    "            locations[t] -= psg\n",
    "            \n",
    "        for loading in locations:\n",
    "            capacity -= loading\n",
    "            if capacity < 0: return False\n",
    "            \n",
    "        return True\n",
    "\n",
    "# test\n",
    "sol = Solution()\n",
    "print(sol.carPooling_mine([[2, 1, 3], [3, 3, 6], [1, 5, 7]], 4))"
   ]
  },
  {
   "cell_type": "markdown",
   "metadata": {},
   "source": [
    "##### 1022. Sum of Root To Leaf Binary Numbers / Easy#"
   ]
  },
  {
   "cell_type": "code",
   "execution_count": 18,
   "metadata": {},
   "outputs": [],
   "source": [
    "# stupid practice of thinking the sol by misunstood the tree input structure as array \n",
    "# but worth to note\n",
    "from typing import Optional\n",
    "\n",
    "# Definition for a binary tree node.\n",
    "class TreeNode:\n",
    "    def __init__(self, val=0, left=None, right=None):\n",
    "        self.val = val\n",
    "        self.left = left\n",
    "        self.right = right\n",
    "        \n",
    "class Solution:\n",
    "    def sumRootToLeaf(self, root: Optional[TreeNode]) -> int:\n",
    "        route_list = [] #list[list[int]]\n",
    "        self.get_route(root, route_list, 1, [])\n",
    "        \n",
    "        result = 0\n",
    "        for route in route_list:\n",
    "            result += self.bitwise_count(route)\n",
    "        \n",
    "        print(result)\n",
    "        \n",
    "    def get_route(self, data, list, node_idx, route):\n",
    "        \n",
    "        # preorder travelse:\n",
    "        # node = data[node_idx]\n",
    "        # left_tree = self.get_route(data, node.left) if node.left else []\n",
    "        # right_tree = self.get_route(data, node.right) if node.right else []\n",
    "        # return [node.val] + left_tree + right_tree\n",
    "        \n",
    "        # separate from root-left-right to root-left and root-right\n",
    "        # then get left and right routes when they arrive leaf\n",
    "        \n",
    "        node = data[node_idx]\n",
    "        route.append(node.val)\n",
    "        # boundry condition: if node is leaf then append route into list and return\n",
    "        if node.left == None and node.right == None:\n",
    "            list.append(route)\n",
    "            return\n",
    "        \n",
    "        if node.left != None:\n",
    "            self.get_route(data, list, node.left, route)\n",
    "            \n",
    "        if node.right != None:\n",
    "            self.get_route(data, list, node.right, route)\n",
    "        \n",
    "    def bitwise_count(self, route):\n",
    "        sum, step, route_len = 0, 0, len(route)\n",
    "        \n",
    "        # len(route) will be updated by pop() in while loop but won't in for loop\n",
    "        while step < route_len:\n",
    "            sum += route.pop() * (2 ** step)\n",
    "            step += 1\n",
    "            \n",
    "        print('sum of route {} is {}'.format(route, sum))\n",
    "        return sum"
   ]
  },
  {
   "cell_type": "code",
   "execution_count": 19,
   "metadata": {},
   "outputs": [
    {
     "name": "stdout",
     "output_type": "stream",
     "text": [
      "this node is 0, current sum is 0\n"
     ]
    }
   ],
   "source": [
    "from typing import Optional\n",
    "\n",
    "# Definition for a binary tree node.\n",
    "class TreeNode:\n",
    "    def __init__(self, val=0, left=None, right=None):\n",
    "        self.val = val\n",
    "        self.left = left\n",
    "        self.right = right\n",
    "        \n",
    "class Solution:\n",
    "    def sumRootToLeaf(self, root: Optional[TreeNode]) -> int:\n",
    "        \n",
    "        # can define a total variable instead of return the cur_sum,\n",
    "        # but the recur need to be a sub-method in sumRootToLeaf,\n",
    "        # then we can use 'nonlocal' prefix to access total variable in recur\n",
    "        \n",
    "        return self.recur(root, 0)\n",
    "    \n",
    "    def recur(self, data, cur_sum):\n",
    "        if data:\n",
    "            print('this node is {}, current sum is {}'.format(data.val, cur_sum))\n",
    "            cur_sum = cur_sum * 2 + data.val\n",
    "            \n",
    "            if data.left and data.right:\n",
    "                return self.recur(data.left, cur_sum) + self.recur(data.right, cur_sum)\n",
    "            elif data.left:\n",
    "                return self.recur(data.left, cur_sum)\n",
    "            elif data.right:\n",
    "                return self.recur(data.right, cur_sum)\n",
    "        \n",
    "        return cur_sum\n",
    "    \n",
    "# test\n",
    "root = TreeNode()\n",
    "sol = Solution().sumRootToLeaf(root)\n"
   ]
  },
  {
   "cell_type": "markdown",
   "metadata": {},
   "source": [
    "##### 0867. Transpose Matrix / Easy"
   ]
  },
  {
   "cell_type": "code",
   "execution_count": 21,
   "metadata": {},
   "outputs": [
    {
     "name": "stdout",
     "output_type": "stream",
     "text": [
      "[[1, 4, 7], [2, 5, 8], [3, 6, 9]]\n"
     ]
    }
   ],
   "source": [
    "from typing import List\n",
    "\n",
    "class Solution:\n",
    "    def transpose(self, matrix: List[List[int]]) -> List[List[int]]:\n",
    "        row_len, col_len = len(matrix), len(matrix[0])\n",
    "        result = [[None] * row_len for new_row in range(col_len)]\n",
    "\n",
    "        # slower\n",
    "        # for r in range(col_len):\n",
    "        #     result[r] = [matrix[c][r] for c in range(row_len)]\n",
    "\n",
    "        for c in range(col_len):\n",
    "            for r in range(row_len):\n",
    "                result[c][r] = matrix[r][c]\n",
    "\n",
    "        return result\n",
    "\n",
    "    def transpose_square(self, matrix: List[List[int]]) -> List[List[int]]:\n",
    "        row_len = len(matrix)\n",
    "        col_len = len(matrix[0])\n",
    "\n",
    "        for r in range(row_len):\n",
    "            for c in range(col_len):\n",
    "                # swap when c > r\n",
    "                if c > r:\n",
    "                    matrix[c][r] = matrix[r][c]\n",
    "        return matrix\n",
    "\n",
    "\n",
    "sol = Solution()\n",
    "test = sol.transpose([[1, 2, 3], [4, 5, 6], [7, 8, 9]])\n",
    "# test = sol.transpose_square([[1, 2, 3], [4, 5, 6], [7, 8, 9]])\n",
    "print(test)"
   ]
  },
  {
   "cell_type": "markdown",
   "metadata": {},
   "source": [
    "##### 0051. N-Queens / Hard#"
   ]
  },
  {
   "cell_type": "code",
   "execution_count": null,
   "metadata": {},
   "outputs": [],
   "source": [
    "class Solution:\n",
    "    def solveNQueens(self, n: int) -> list[list[str]]:\n",
    "        result = []  # [1, 3, 0, 2]\n",
    "        sol = []\n",
    "\n",
    "        for row in range(n):\n",
    "\n",
    "            for col in range(n):\n",
    "                if (self.isUnderAttact(col, row, sol)):\n",
    "                    sol.append(col)\n",
    "                    break\n",
    "                else:\n",
    "                    continue\n",
    "\n",
    "        # start from row 0 to n-1\n",
    "        # for row in range(n):\n",
    "\n",
    "        # pre_result = [[0,1,2], [1,0,2]]\n",
    "        #1. for y in 0-n\n",
    "        #2. for x in 0-n call test then add to sub_list / break\n",
    "\n",
    "    def isUnderAttact(self, x: int, y: int, queen_list: list[int]) -> bool:\n",
    "        len = len(queen_list)\n",
    "\n",
    "        # streight look up\n",
    "        if x in queen_list:\n",
    "            return False\n",
    "\n",
    "        step = 1\n",
    "        while step <= y:\n",
    "            row = y - step\n",
    "\n",
    "            # left look up\n",
    "            if len(queen_list) > row and queen_list[row] == x - step:\n",
    "                return False\n",
    "\n",
    "            # right look up\n",
    "            if len(queen_list) > row and queen_list[row] == x + step:\n",
    "                return False\n",
    "\n",
    "            step += 1\n",
    "\n",
    "        return True\n"
   ]
  },
  {
   "cell_type": "markdown",
   "metadata": {},
   "source": [
    "##### 0167. Two Sum II - Input Array Is Sorted / Medium"
   ]
  },
  {
   "cell_type": "code",
   "execution_count": 26,
   "metadata": {},
   "outputs": [
    {
     "name": "stdout",
     "output_type": "stream",
     "text": [
      "[2, 3]\n",
      "[1, 2]\n"
     ]
    }
   ],
   "source": [
    "from typing import List\n",
    "\n",
    "class Solution:\n",
    "    def twoSum(self, numbers: List[int], target: int) -> List[int]:\n",
    "        for idx in range(len(numbers)):\n",
    "            if idx != len(numbers) - 1:\n",
    "                partner_Idx = self.binarySearch(numbers, idx + 1, len(numbers) - 1, target - numbers[idx])\n",
    "\n",
    "                if partner_Idx != -1:\n",
    "                    return [x + 1 for x in [idx, partner_Idx]]\n",
    "            else:\n",
    "                return [0]\n",
    "            \n",
    "    def binarySearch(self, arr: List[int], left: int, right: int, key: int) -> int:\n",
    "        if right >= left:\n",
    "            mid = left + (right - left) // 2\n",
    "            if arr[mid] == key: return mid\n",
    "            if arr[mid] > key: return self.binarySearch(arr, left, mid - 1, key)\n",
    "            if arr[mid] < key: return self.binarySearch(arr, mid + 1, right, key)\n",
    "        else:\n",
    "            return -1\n",
    "\n",
    "    def twoSum_better(self, numbers: List[int], target: int) -> List[int]:\n",
    "        idx1, idx2 = 0, len(numbers) - 1\n",
    "        \n",
    "        while idx1 < idx2:\n",
    "            sum = numbers[idx1] + numbers[idx2]\n",
    "            if sum == target:\n",
    "                return [x + 1 for x in [idx1, idx2]]\n",
    "            if sum < target:\n",
    "                idx1 += 1\n",
    "            else:\n",
    "                idx2 -= 1\n",
    "        \n",
    "\n",
    "# test\n",
    "sol = Solution()\n",
    "# print(sol.twoSum([2, 7, 11, 15], 9))\n",
    "# print(sol.twoSum([2, 3, 4], 6))\n",
    "# print(sol.twoSum([-1, 0], -1))\n",
    "print(sol.twoSum_better([0, 0, 3, 4], 0))"
   ]
  },
  {
   "cell_type": "markdown",
   "metadata": {},
   "source": [
    "##### 0001. Two Sum / Easy"
   ]
  },
  {
   "cell_type": "code",
   "execution_count": 38,
   "metadata": {},
   "outputs": [
    {
     "name": "stdout",
     "output_type": "stream",
     "text": [
      "[0, 1]\n",
      "[1, 2]\n"
     ]
    }
   ],
   "source": [
    "from typing import List\n",
    "\n",
    "class Solution:\n",
    "    def twoSum(self, nums: List[int], target: int) -> List[int]:\n",
    "        dic = {}\n",
    "        for idx in range(len(nums)):\n",
    "            next_val = target - nums[idx]\n",
    "            if nums[idx] in dic:\n",
    "                return [dic[nums[idx]], idx]\n",
    "            else:\n",
    "                dic[next_val] = idx\n",
    "\n",
    "# test\n",
    "sol = Solution()\n",
    "print(sol.twoSum([2,7,11,15], 9))\n",
    "print(sol.twoSum([3, 2, 4], 6))"
   ]
  },
  {
   "cell_type": "markdown",
   "metadata": {},
   "source": [
    "##### 0003. Longest Substring Without Repeating Characters / Medium"
   ]
  },
  {
   "cell_type": "code",
   "execution_count": 50,
   "metadata": {},
   "outputs": [
    {
     "name": "stdout",
     "output_type": "stream",
     "text": [
      "3\n",
      "0\n",
      "1\n",
      "3\n"
     ]
    }
   ],
   "source": [
    "class Solution:\n",
    "    def lengthOfLongestSubstring(self, s: str) -> int:\n",
    "        left = right = temp_len = max_len = 0\n",
    "        ch_dic = {}\n",
    "        \n",
    "        while right < len(s):\n",
    "            if s[right] in ch_dic and ch_dic[s[right]]:\n",
    "                ch_dic[s[left]] = False\n",
    "                left += 1\n",
    "            else:\n",
    "                ch_dic[s[right]] = True\n",
    "                right += 1\n",
    "                \n",
    "                temp_len = right - left\n",
    "                if temp_len > max_len:\n",
    "                    max_len = temp_len\n",
    "        \n",
    "        return max_len\n",
    "        \n",
    "# test\n",
    "sol = Solution()\n",
    "print(sol.lengthOfLongestSubstring(\"abcabcbb\"))\n",
    "print(sol.lengthOfLongestSubstring(\"\"))\n",
    "print(sol.lengthOfLongestSubstring(\"bbbbb\"))\n",
    "print(sol.lengthOfLongestSubstring(\"pwwkew\"))"
   ]
  },
  {
   "cell_type": "markdown",
   "metadata": {},
   "source": [
    "##### 1695. Maximum Erasure Value / Medium"
   ]
  },
  {
   "cell_type": "code",
   "execution_count": 16,
   "metadata": {},
   "outputs": [
    {
     "name": "stdout",
     "output_type": "stream",
     "text": [
      "dic[5]: 1\n",
      "dic[2]: 1\n",
      "dic[1]: 1\n",
      "dic[2]: 2\n",
      "dic[5]: 1\n",
      "dic[2]: 2\n",
      "dic[1]: 1\n",
      "dic[2]: 2\n",
      "dic[5]: 1\n",
      "8\n"
     ]
    }
   ],
   "source": [
    "from typing import List\n",
    "from collections import defaultdict\n",
    "\n",
    "class Solution:\n",
    "    def maximumUniqueSubarray(self, nums: List[int]) -> int:\n",
    "        left = right = sum = res = 0\n",
    "        dic = defaultdict(int)\n",
    "\n",
    "        while right < len(nums):\n",
    "            elem = nums[right]\n",
    "            \n",
    "            # classic sliding window solution\n",
    "            # if elem in dic and dic[elem] > 0:\n",
    "            #     sum -= nums[left]\n",
    "            #     dic[nums[left]] = -1\n",
    "            #     left += 1\n",
    "            # else:\n",
    "            #     sum += elem\n",
    "            #     res = max(res, sum)\n",
    "            #     dic[elem] = 1\n",
    "            #     right += 1\n",
    "            # print(\"temp_max: {}, cur_max: {}\".format(sum, res))\n",
    "            \n",
    "            dic[elem] += 1\n",
    "            print(\"dic[{}]: {}\".format(elem, dic[elem]))\n",
    "            sum += elem\n",
    "            \n",
    "            while dic[elem] > 1:\n",
    "                dic[nums[left]] -= 1\n",
    "                sum -= nums[left]\n",
    "                left += 1\n",
    "            \n",
    "            res = max(res, sum)\n",
    "            right += 1\n",
    "        return res\n",
    "    \n",
    "# test\n",
    "sol = Solution()\n",
    "print(sol.maximumUniqueSubarray([5, 2, 1, 2, 5, 2, 1, 2, 5]))\n"
   ]
  },
  {
   "cell_type": "markdown",
   "metadata": {},
   "source": [
    "##### 0120. Triangle / Medium"
   ]
  },
  {
   "cell_type": "code",
   "execution_count": 16,
   "metadata": {},
   "outputs": [
    {
     "name": "stdout",
     "output_type": "stream",
     "text": [
      "Final level: 3, elem: 0, return triangle[level][elem]: 4\n",
      "Final level: 3, elem: 1, return triangle[level][elem]: 1\n",
      "Current level: 2, elem: 0, return triangle[level][elem]: 6 + min(4, 1)\n",
      "Final level: 3, elem: 2, return triangle[level][elem]: 8\n",
      "Current level: 2, elem: 1, return triangle[level][elem]: 5 + min(1, 8)\n",
      "Current level: 1, elem: 0, return triangle[level][elem]: 3 + min(7, 6)\n",
      "Final level: 3, elem: 3, return triangle[level][elem]: 3\n",
      "Current level: 2, elem: 2, return triangle[level][elem]: 7 + min(8, 3)\n",
      "Current level: 1, elem: 1, return triangle[level][elem]: 4 + min(6, 10)\n",
      "Current level: 0, elem: 0, return triangle[level][elem]: 2 + min(9, 10)\n",
      "11\n"
     ]
    }
   ],
   "source": [
    "from typing import List\n",
    "\n",
    "class Solution:\n",
    "    def minimumTotal(self, triangle: List[List[int]]) -> int:\n",
    "        return self.find_min_path(triangle, 0, 0, {})\n",
    "            \n",
    "    # DFS\n",
    "    def find_min_path(self, triangle: List[List[int]], level: int, elem: int, dic_idx: dict) -> int:\n",
    "        cur = triangle[level][elem]\n",
    "        \n",
    "        if level == len(triangle) - 1: # length - 1 = max of both level and elem\n",
    "            print(\"Final level: {}, elem: {}, return triangle[level][elem]: {}\".format(level, elem, cur))\n",
    "            return cur\n",
    "        else:\n",
    "            # use dic_idx to store caculated min-value\n",
    "            left_tree_idx = \"{}-{}\".format(level + 1, elem)\n",
    "            if left_tree_idx not in dic_idx:\n",
    "                dic_idx[left_tree_idx] = self.find_min_path(triangle, level + 1, elem, dic_idx)\n",
    "            left_min = dic_idx[left_tree_idx]\n",
    "            \n",
    "            right_tree_idx = \"{}-{}\".format(level + 1, elem + 1)\n",
    "            if right_tree_idx not in dic_idx:\n",
    "                dic_idx[right_tree_idx] = self.find_min_path(triangle, level + 1, elem + 1, dic_idx)\n",
    "            right_min = dic_idx[right_tree_idx]\n",
    "            \n",
    "            print(\"Current level: {}, elem: {}, return triangle[level][elem]: {} + min({}, {})\".format(\n",
    "                level, elem, cur, left_min, right_min))\n",
    "            return cur + min(left_min, right_min)\n",
    "        \n",
    "# test\n",
    "sol = Solution()\n",
    "print(sol.minimumTotal([[2], [3, 4], [6, 5, 7], [4, 1, 8, 3]]))\n"
   ]
  },
  {
   "cell_type": "markdown",
   "metadata": {},
   "source": [
    "##### 0005. Longest Palindromic Substring"
   ]
  },
  {
   "cell_type": "code",
   "execution_count": 9,
   "metadata": {},
   "outputs": [
    {
     "name": "stdout",
     "output_type": "stream",
     "text": [
      "cc\n"
     ]
    }
   ],
   "source": [
    "class Solution:\n",
    "    # def longestPalindrome(self, s: str) -> str:\n",
    "    #     ln = len(s)\n",
    "    #     if ln < 2: return s\n",
    "        \n",
    "    #     largest_sub_info = [0, 0, 0]\n",
    "    #     for i in range(ln):\n",
    "    #         sub_info = None\n",
    "    #         if i < ln - 2 and s[i] == s[i + 2]:\n",
    "    #             sub_info = self.find_substr(s, i, i + 2)\n",
    "    #             if sub_info and sub_info[2] > largest_sub_info[2]:\n",
    "    #                 largest_sub_info = sub_info\n",
    "    #         if i < ln - 1 and s[i] == s[i + 1]:\n",
    "    #             sub_info = self.find_substr(s, i, i + 1)\n",
    "    #             if sub_info and sub_info[2] > largest_sub_info[2]:\n",
    "    #                 largest_sub_info = sub_info\n",
    "                    \n",
    "    #     return s[largest_sub_info[0]:largest_sub_info[1]+1]\n",
    "        \n",
    "    # def find_substr(self, s, l, r):\n",
    "    #     while l > 0 and r < len(s) - 1 and s[l-1] == s[r+1]:\n",
    "    #         l -= 1\n",
    "    #         r += 1\n",
    "    #     return [l, r, r - l]\n",
    "    \n",
    "    def longestPalindrome(self, s: str) -> str:\n",
    "        ln = len(s)\n",
    "        res = s[0]\n",
    "        \n",
    "        for i in range(ln):\n",
    "            if i < ln - 2 and s[i] == s[i + 2]:\n",
    "                sub_str = self.find_substr(s, i, i + 2)\n",
    "                if len(sub_str) > len(res):\n",
    "                    largest_str = sub_str\n",
    "            if i < ln - 1 and s[i] == s[i + 1]:\n",
    "                sub_str = self.find_substr(s, i, i + 1)\n",
    "                if len(sub_str) > len(res):\n",
    "                    largest_str = sub_str\n",
    "                    \n",
    "        return largest_str\n",
    "        \n",
    "    def find_substr(self, s, l, r):\n",
    "        while l > 0 and r < len(s) - 1 and s[l-1] == s[r+1]:\n",
    "            l -= 1\n",
    "            r += 1\n",
    "            \n",
    "        return s[l:r+1]\n",
    "    \n",
    "# test\n",
    "sol = Solution()\n",
    "print(sol.longestPalindrome(\"ccdcc\"))\n"
   ]
  },
  {
   "cell_type": "markdown",
   "metadata": {},
   "source": [
    "##### 0215. Kth Largest Element in an Array / Medium"
   ]
  },
  {
   "cell_type": "code",
   "execution_count": 28,
   "metadata": {},
   "outputs": [
    {
     "name": "stdout",
     "output_type": "stream",
     "text": [
      "4\n"
     ]
    }
   ],
   "source": [
    "from typing import List\n",
    "\n",
    "class Solution:\n",
    "    def findKthLargest(self, nums: List[int], k: int) -> int:\n",
    "        largest_arr = [-10000 for _ in range(k)]\n",
    "        for item in nums:\n",
    "            insert_flag = False\n",
    "            largest_idx = 0\n",
    "            while largest_idx < k and not insert_flag:\n",
    "                if item >= largest_arr[largest_idx]:\n",
    "                    insert_flag = True\n",
    "                    largest_arr = largest_arr[0:largest_idx] + [item] + largest_arr[largest_idx:k-1]\n",
    "                largest_idx += 1\n",
    "        return largest_arr[k-1]\n",
    "    \n",
    "    # quick select which applies the partition tip like quick sort\n",
    "    # refer to https://leetcode.com/problems/kth-largest-element-in-an-array/discuss/1019513/Python-QuickSelect-average-O(n)-explained\n",
    "    def quickSelect(self, nums: List[int], k: int) -> int:\n",
    "        pivot = nums[0]\n",
    "        # split to 3 partitions\n",
    "        left_part = [item for item in nums if item > pivot]\n",
    "        mid_part = [item for item in nums if item == pivot]\n",
    "        right_part = [item for item in nums if item < pivot]\n",
    "        \n",
    "        left_size, mid_size = len(left_part), len(mid_part)\n",
    "        \n",
    "        # only need to focus on left_part\n",
    "        if k <= left_size:\n",
    "            return self.quickSelect(left_part, k)\n",
    "        # focus on right_part but because the left_part and mid_part have occupied the largest [left_size+mid_size] items, the next k need to deduct their sizes\n",
    "        elif k > left_size + mid_size:\n",
    "            return self.quickSelect(right_part, k - (left_size + mid_size))\n",
    "        # in case of the rest elements are all equally, so the first one is what we need\n",
    "        else:\n",
    "            return mid_part[0]\n",
    "            \n",
    "\n",
    "# test\n",
    "sol = Solution()\n",
    "# print(sol.findKthLargest(nums=[3, 2, 3, 1, 2, 4, 5, 5, 6], k=4))\n",
    "print(sol.quickSelect(nums=[3, 2, 3, 1, 2, 4, 5, 5, 6], k=4))\n"
   ]
  },
  {
   "cell_type": "markdown",
   "metadata": {},
   "source": [
    "##### 1423. Maximum Points You Can Obtain from Cards / Medium"
   ]
  },
  {
   "cell_type": "code",
   "execution_count": 18,
   "metadata": {},
   "outputs": [
    {
     "name": "stdout",
     "output_type": "stream",
     "text": [
      "12\n"
     ]
    }
   ],
   "source": [
    "from typing import List\n",
    "\n",
    "class Solution:\n",
    "    def maxScore(self, cardPoints: List[int], k: int) -> int:\n",
    "        length = len(cardPoints)\n",
    "        if length <= k:\n",
    "            return sum(cardPoints)\n",
    "        \n",
    "        left, right, temp = k - 1, length - 1, sum(cardPoints[0:k])\n",
    "        res = temp\n",
    "\n",
    "        while left >= 0 and left < right:\n",
    "            temp = temp - cardPoints[left] + cardPoints[right]\n",
    "            res = max(temp, res)\n",
    "            \n",
    "            left -= 1\n",
    "            right -= 1\n",
    "        return res\n",
    "    \n",
    "# test\n",
    "sol = Solution()\n",
    "print(sol.maxScore(cardPoints=[1, 2, 3, 4, 5, 6, 1], k=3))\n"
   ]
  },
  {
   "cell_type": "markdown",
   "metadata": {},
   "source": [
    "##### 2091. Removing Minimum and Maximum From Array / Medium"
   ]
  },
  {
   "cell_type": "code",
   "execution_count": 32,
   "metadata": {},
   "outputs": [
    {
     "name": "stdout",
     "output_type": "stream",
     "text": [
      "6\n"
     ]
    }
   ],
   "source": [
    "from typing import List\n",
    "\n",
    "class Solution:\n",
    "    def minimumDeletions(self, nums: List[int]) -> int:\n",
    "        length = len(nums)\n",
    "        if length <= 2:\n",
    "            return length\n",
    "\n",
    "        min_idx, max_idx = 0, 0\n",
    "        for i in range(1,length):\n",
    "            if nums[i] < nums[min_idx]:\n",
    "                min_idx = i\n",
    "            if nums[i] > nums[max_idx]:\n",
    "                max_idx = i\n",
    "        front, back = min(min_idx, max_idx), max(min_idx, max_idx)\n",
    "        \n",
    "        return min(back + 1, length - front, (front + 1 + length - back))\n",
    "\n",
    "# test\n",
    "sol = Solution()\n",
    "print(sol.minimumDeletions(nums = [-14,61,29,-18,59,13,-67,-16,55,-57,7,74]))"
   ]
  },
  {
   "cell_type": "markdown",
   "metadata": {},
   "source": [
    "##### 1689. Partitioning Into Minimum Number Of Deci-Binary Numbers / Medium"
   ]
  },
  {
   "cell_type": "code",
   "execution_count": 8,
   "metadata": {},
   "outputs": [
    {
     "name": "stdout",
     "output_type": "stream",
     "text": [
      "9\n"
     ]
    }
   ],
   "source": [
    "class Solution:\n",
    "    def minPartitions(self, n: str) -> int:\n",
    "        # max_digit = 0\n",
    "        # for i in n:\n",
    "        #     dig = int(i)\n",
    "        #     print(type(dig))\n",
    "        #     if dig > max_digit:\n",
    "        #         max_digit = dig\n",
    "        # return max_digit\n",
    "        \n",
    "        # faster\n",
    "        for i in range(9, -1, -1):\n",
    "            if str(i) in n:\n",
    "                return i\n",
    "\n",
    "# test\n",
    "sol = Solution()\n",
    "print(sol.minPartitions(\"27346209830709182346\"))\n"
   ]
  },
  {
   "cell_type": "markdown",
   "metadata": {},
   "source": [
    "##### 0148. Sort List / Medium"
   ]
  },
  {
   "cell_type": "code",
   "execution_count": 58,
   "metadata": {},
   "outputs": [
    {
     "name": "stdout",
     "output_type": "stream",
     "text": [
      "before set once.next = None: <__main__.ListNode object at 0x105550e50>\n",
      "after  set once.next = None: <__main__.ListNode object at 0x105550e50>\n",
      "after  set once.next = None: None\n",
      "None\n"
     ]
    }
   ],
   "source": [
    "from typing import Optional\n",
    "\n",
    "# Definition for singly-linked list.\n",
    "class ListNode:\n",
    "    def __init__(self, val=0, next=None):\n",
    "        self.val = val\n",
    "        self.next = next\n",
    "        \n",
    "class Solution:\n",
    "    # def sortList(self, head: Optional[ListNode]) -> Optional[ListNode]:\n",
    "    #     res = self.quickSort(head, 0, len(head)-1)\n",
    "    #     return res\n",
    "        \n",
    "    # def partition(self, arr, l, r):\n",
    "    #     pivot = arr[r]\n",
    "    #     pivot_idx = l-1 # the index of last checked item smaller than povit value\n",
    "    #     while l < r:\n",
    "    #         if arr[l] < pivot:\n",
    "    #             pivot_idx += 1\n",
    "                \n",
    "    #             # item < pivot, move item to the left end of pivot index\n",
    "    #             arr[pivot_idx], arr[l] = arr[l], arr[pivot_idx]\n",
    "            \n",
    "    #         l += 1\n",
    "        \n",
    "    #     # move pivot value to its place\n",
    "    #     pivot_idx += 1\n",
    "    #     arr[pivot_idx], arr[r] = arr[r], arr[pivot_idx]\n",
    "        \n",
    "        \n",
    "    #     return pivot_idx\n",
    "\n",
    "    # def quickSort(self, arr, l, r):\n",
    "    #     if l < r:\n",
    "    #         pivot_idx = self.partition(arr, l, r)\n",
    "    #         self.quickSort(arr, l, pivot_idx - 1)\n",
    "    #         self.quickSort(arr, pivot_idx + 1, r)\n",
    "    #     return arr\n",
    "    \n",
    "    # def mergeSort(self, arr):\n",
    "    #     length = len(arr)\n",
    "    #     if length < 2:\n",
    "    #         return arr\n",
    "        \n",
    "    #     mid = length // 2\n",
    "    #     return self.merge(self.mergeSort(arr[0:mid]), self.mergeSort(arr[mid:length]))\n",
    "    \n",
    "    # def merge(self, arr_L, arr_R):\n",
    "    #     l, r, len_L, len_R = 0, 0, len(arr_L), len(arr_R)\n",
    "    #     sorted_arr = []\n",
    "        \n",
    "    #     while l < len_L and r < len_R:\n",
    "    #         if arr_L[l] < arr_R[r]:\n",
    "    #             sorted_arr.append(arr_L[l])\n",
    "    #             l += 1\n",
    "    #         else:\n",
    "    #             sorted_arr.append(arr_R[r])\n",
    "    #             r += 1\n",
    "    #     while l < len_L:\n",
    "    #         sorted_arr.append(arr_L[l])\n",
    "    #         l += 1\n",
    "    #     while r < len_R:\n",
    "    #         sorted_arr.append(arr_R[r])\n",
    "    #         r += 1\n",
    "    #     return sorted_arr\n",
    "\n",
    "    def sortList(self, head):\n",
    "        if not head or not head.next:\n",
    "            return head\n",
    "        \n",
    "        mid = self.getMid(head)\n",
    "        head_L = self.sortList(head)\n",
    "        head_R = self.sortList(mid)\n",
    "        return self.merge(head_L, head_R)\n",
    "\n",
    "    def getMid(self, head):\n",
    "        once, twice = head, head\n",
    "        while twice.next and twice.next.next:\n",
    "            once = once.next\n",
    "            twice = twice.next.next\n",
    "        mid = once.next # store the node address of once.next\n",
    "        once.next = None # clean the content of once.next to BREAK the list\n",
    "        return mid\n",
    "    \n",
    "    def merge(self, head_L, head_R):\n",
    "        dummy = tail = ListNode(None)\n",
    "        while head_L and head_R:\n",
    "            if head_L.val < head_R.val:\n",
    "                tail.next, head_L = head_L, head_L.next\n",
    "            else:\n",
    "                tail.next, head_R = head_R, head_R.next\n",
    "            tail = tail.next\n",
    "        # either head_L or head_R is None\n",
    "        tail.next = head_L or head_R\n",
    "        return dummy.next\n",
    "# test\n",
    "sol = Solution()\n",
    "print(sol.mergeSort([-1,5,3,4,0]))"
   ]
  },
  {
   "cell_type": "markdown",
   "metadata": {},
   "source": [
    "##### 0056. Merge Intervals / Medium"
   ]
  },
  {
   "cell_type": "code",
   "execution_count": 18,
   "metadata": {},
   "outputs": [
    {
     "name": "stdout",
     "output_type": "stream",
     "text": [
      "0\n",
      "0 2\n",
      "0\n",
      "0 1\n",
      "[[0, 5]]\n"
     ]
    }
   ],
   "source": [
    "from typing import List\n",
    "\n",
    "class Solution:\n",
    "    def merge(self, intervals: List[List[int]]) -> List[List[int]]:\n",
    "        \n",
    "        # sort the interval by start that we only need to consider the case if next's start <= current's end\n",
    "        intervals = sorted(intervals, key=lambda x: x[0])\n",
    "        \n",
    "        idx = 0\n",
    "        while idx < len(intervals) - 1:\n",
    "            if intervals[idx][1] >= intervals[idx+1][0]:\n",
    "                intervals[idx][1] = max(intervals[idx][1], intervals[idx+1][1])\n",
    "                intervals.remove(intervals[idx+1])\n",
    "            else:\n",
    "                # only add index when overlap isn't happen\n",
    "                idx += 1\n",
    "        return intervals\n",
    "    \n",
    "# test\n",
    "sol = Solution()\n",
    "print(sol.merge(\n",
    "    [[1, 4], [0, 2], [3, 5]]))\n"
   ]
  },
  {
   "cell_type": "markdown",
   "metadata": {},
   "source": [
    "##### 0027. Remove Element / Easy"
   ]
  },
  {
   "cell_type": "code",
   "execution_count": null,
   "metadata": {},
   "outputs": [],
   "source": [
    "class Solution:\n",
    "    def removeElement(self, nums: List[int], val: int) -> int:\n",
    "        i, c = 0, 0\n",
    "        while i < len(nums):\n",
    "            if nums[i] != val:\n",
    "                nums[c] = nums[i]\n",
    "                c += 1\n",
    "            i += 1\n",
    "        return c\n"
   ]
  },
  {
   "cell_type": "markdown",
   "metadata": {},
   "source": [
    "##### 1710. Maximum Units on a Truck / Easy"
   ]
  },
  {
   "cell_type": "code",
   "execution_count": 2,
   "metadata": {},
   "outputs": [
    {
     "name": "stdout",
     "output_type": "stream",
     "text": [
      "[[1, 3], [2, 2], [3, 1]]\n",
      "8\n"
     ]
    }
   ],
   "source": [
    "class Solution(object):\n",
    "    def maximumUnits(self, boxTypes, truckSize):\n",
    "        \"\"\"\n",
    "        :type boxTypes: List[List[int]]\n",
    "        :type truckSize: int\n",
    "        :rtype: int\n",
    "        \"\"\"\n",
    "        res, idx, size = 0, 0, len(boxTypes)\n",
    "        boxTypes = sorted(boxTypes, key=lambda x: x[1], reverse=True)\n",
    "        print(boxTypes)\n",
    "        while truckSize > 0 and idx < size:\n",
    "            if truckSize > boxTypes[idx][0]:\n",
    "                res += boxTypes[idx][0] * boxTypes[idx][1]\n",
    "                truckSize -= boxTypes[idx][0]\n",
    "                idx += 1\n",
    "            else:\n",
    "                res += truckSize * boxTypes[idx][1]\n",
    "                truckSize = 0\n",
    "        return res\n",
    "\n",
    "# test\n",
    "sol = Solution()\n",
    "print(sol.maximumUnits(boxTypes = [[1,3],[2,2],[3,1]], truckSize = 4\n",
    "))"
   ]
  },
  {
   "cell_type": "markdown",
   "metadata": {},
   "source": [
    "##### 0772. Basic Calculator III / Hard"
   ]
  },
  {
   "cell_type": "code",
   "execution_count": 58,
   "metadata": {},
   "outputs": [
    {
     "name": "stdout",
     "output_type": "stream",
     "text": [
      "10\n"
     ]
    }
   ],
   "source": [
    "def calculator(strParam):\n",
    "    idx, stack = 0, []\n",
    "    # handle parentheses\n",
    "    while ')' in strParam and idx < len(strParam):\n",
    "        elem = strParam[idx]\n",
    "        if elem == '(':\n",
    "            stack.append(idx)\n",
    "        if elem == ')':\n",
    "            left = stack.pop()\n",
    "            right = idx\n",
    "            sub_val = sub_calc(strParam[left+1:right])\n",
    "            # update strParam and idx\n",
    "            strParam = strParam[:left] + str(sub_val) + strParam[right+1:]\n",
    "            idx = left\n",
    "        idx += 1\n",
    "    # finally calculate result without parentheses\n",
    "    return sub_calc(strParam)\n",
    "\n",
    "def sub_calc(sub_str):\n",
    "    op_str, num_arr, op_arr = '*/+-', [], []\n",
    "    # scan through sub_str to split number and operator\n",
    "    for idx in range(len(sub_str)):\n",
    "        elem = sub_str[idx]\n",
    "        if elem in op_str:\n",
    "            op_arr.append(elem)\n",
    "            continue\n",
    "        num = int(elem)\n",
    "        if len(num_arr) == 0 or sub_str[idx-1] in op_str:\n",
    "            num_arr.append(num)\n",
    "        else:\n",
    "            num_arr[-1] = 10 * num_arr[-1] + num\n",
    "    # function to calculate res with \n",
    "    def calc_helper(op, num_arr, op_arr):\n",
    "        handler = {\n",
    "            '*': lambda x, y: x * y,\n",
    "            '/': lambda x, y: x / y,\n",
    "            '+': lambda x, y: x + y,\n",
    "            '-': lambda x, y: x - y,\n",
    "        }\n",
    "        idx = op_arr.index(op)\n",
    "        val = int(handler[op_arr[idx]](num_arr[idx], num_arr[idx+1]))\n",
    "        num_arr = num_arr[:idx] + [val] + num_arr[idx+2:]\n",
    "        op_arr = op_arr[:idx] + op_arr[idx+1:]\n",
    "        return (num_arr, op_arr)\n",
    "\n",
    "    # go through */+-\n",
    "    for op in op_str:\n",
    "        while op in op_arr:\n",
    "            num_arr, op_arr = calc_helper(op, num_arr, op_arr)\n",
    "    return num_arr[0]\n",
    "\n",
    "print(calculator('5+2*3-1'))"
   ]
  },
  {
   "cell_type": "code",
   "execution_count": 5,
   "metadata": {},
   "outputs": [
    {
     "name": "stdout",
     "output_type": "stream",
     "text": [
      "[1, 5, 7, 1, 6, 7]\n"
     ]
    }
   ],
   "source": [
    "class Node:\n",
    "    def __init__(self, val):\n",
    "        self.val = val\n",
    "        self.next = None\n",
    "\n",
    "\n",
    "# nums: input a array, \n",
    "# pos: the index of array\n",
    "# build the unidirection linking list the next of tail node link to the node at pos, \n",
    "# retrun head node\n",
    "# example: num: [1,5,7,1,6,4], pos = 2\n",
    "# output: Node(1) -> Node(5) -> Node(7) -> Node(1) -> Node(6) -> Node(4) -|\n",
    "#                                 ^---------------------------------------|\n",
    "def build_list(nums, pos):\n",
    "    ln = len(nums)\n",
    "    head = prev = pos_node = None\n",
    "    for i in range(ln):\n",
    "        node = Node(nums[i])\n",
    "        \n",
    "        # set next\n",
    "        if i == 0:\n",
    "            head = node\n",
    "        else: \n",
    "            prev.next = node\n",
    "\n",
    "        # set pos_node\n",
    "        if i == pos: \n",
    "            pos_node = node\n",
    "\n",
    "        # update prev or bind tail\n",
    "        if i != ln - 1:\n",
    "            prev = node\n",
    "        elif i != pos:\n",
    "            node.next = pos_node\n",
    "            \n",
    "    return head\n",
    "\n",
    "def test_func(nums: list, pos: int):\n",
    "    expect_result = nums + [nums[pos]]\n",
    "    print(expect_result)\n",
    "\n",
    "arr = [1,5,7,1,6]\n",
    "p = 1\n",
    "test_func(arr, p)\n",
    "# head = build_list(nums=arr, pos=p)\n",
    "# count = 0\n",
    "# while head.next and count <= len(arr):\n",
    "#     print(head.val)\n",
    "#     head = head.next\n",
    "#     count += 1\n"
   ]
  },
  {
   "cell_type": "markdown",
   "metadata": {},
   "source": [
    "##### 1220. Count Vowels Permutation / Hard"
   ]
  },
  {
   "cell_type": "code",
   "execution_count": 45,
   "metadata": {},
   "outputs": [
    {
     "name": "stdout",
     "output_type": "stream",
     "text": [
      "68\n"
     ]
    }
   ],
   "source": [
    "class Solution:\n",
    "    def countVowelPermutation(self, n: int) -> int:\n",
    "        # bef-aft\n",
    "        # dic = {\n",
    "        #     'a': ['e'],\n",
    "        #     'e': ['a','i'],\n",
    "        #     'i': ['a','e','o','u'],\n",
    "        #     'o': ['i','u'],\n",
    "        #     'u': ['a']\n",
    "        # }\n",
    "        # dp_prev, dp_curr = ['a','e','i','o','u'], []\n",
    "        # for i in range(1, n):\n",
    "        #     for j in range(len(dp_prev)):\n",
    "        #         dp_curr += dic[dp_prev[j]]\n",
    "        #     dp_prev = dp_curr\n",
    "        #     dp_curr = []\n",
    "        # return len(dp_prev)\n",
    "\n",
    "        # aft-bef\n",
    "        dic = {'a': 1, 'e': 1, 'i': 1, 'o': 1, 'u': 1}\n",
    "        for len in range(1, n):\n",
    "            a, e, i, o, u = dic.values()\n",
    "            dic['a'] = e + i + u\n",
    "            dic['e'] = a + i\n",
    "            dic['i'] = e + o\n",
    "            dic['o'] = i\n",
    "            dic['u'] = i + o\n",
    "        return sum(dic.values()) % (pow(10, 9) + 7)"
   ]
  },
  {
   "cell_type": "markdown",
   "metadata": {},
   "source": [
    "##### 0108. Convert Sorted Array to Binary Search Tree / Medium"
   ]
  },
  {
   "cell_type": "code",
   "execution_count": null,
   "metadata": {},
   "outputs": [],
   "source": [
    "class Solution:\n",
    "    # def sortedArrayToBST(self, nums: List[int]) -> Optional[TreeNode]:\n",
    "    #     ln = len(nums)\n",
    "    #     if ln < 2: return nums\n",
    "\n",
    "    #     mid, level = floor(ln / 2), 0\n",
    "    #     res, left, right = [nums[mid]], nums[:mid], nums[mid+1:]\n",
    "    #     while left and right:\n",
    "    #         empty_node = [None] * (2 ** level -1)\n",
    "    #         level_node = [left.pop()] + empty_node + [right.pop()]\n",
    "    #         if left or right: level_node += empty_node\n",
    "    #         res += level_node\n",
    "    #         level += 1\n",
    "\n",
    "    #     if left: \n",
    "    #         res += left\n",
    "    #     if right:\n",
    "    #         res += [None] * (2 ** level) + right\n",
    "\n",
    "    #     return res\n",
    "\n",
    "    def sortedArrayToBST(self, nums: List[int]) -> Optional[TreeNode]:\n",
    "        ln = len(nums)\n",
    "        if ln == 1: \n",
    "            return TreeNode(nums[0])\n",
    "\n",
    "        mid = floor(ln / 2)\n",
    "        head = TreeNode(nums[mid])\n",
    "        left, right = nums[:mid], nums[mid+1:]\n",
    "        if left:\n",
    "            head.left = self.sortedArrayToBST(left)\n",
    "        if right:\n",
    "            head.right = self.sortedArrayToBST(right)\n",
    "        return head"
   ]
  },
  {
   "cell_type": "markdown",
   "metadata": {},
   "source": [
    "##### 98. Validate Binary Search Tree / Easy"
   ]
  },
  {
   "cell_type": "code",
   "execution_count": null,
   "metadata": {},
   "outputs": [],
   "source": [
    "class Solution:\n",
    "    def isValidBST(self, root: Optional[TreeNode]) -> bool:\n",
    "        return self.BSTChecker(root, -(2**32), 2**32)\n",
    "    def BSTChecker(self, node, min, max):\n",
    "        if node == None: return True\n",
    "        val = node.val\n",
    "        if not (min < val < max): return False\n",
    "\n",
    "        return self.BSTChecker(node.left, min, val) and self.BSTChecker(node.right, val, max)"
   ]
  },
  {
   "cell_type": "markdown",
   "metadata": {},
   "source": [
    "##### 326. Power of Three / Easy"
   ]
  },
  {
   "cell_type": "code",
   "execution_count": 2,
   "metadata": {},
   "outputs": [
    {
     "name": "stdout",
     "output_type": "stream",
     "text": [
      "False\n"
     ]
    }
   ],
   "source": [
    "class Solution:\n",
    "    def isPowerOfThree(self, n: int) -> bool:\n",
    "        if n == 1: return True\n",
    "        if n == 0 or n % 3 != 0: return False\n",
    "        return self.isPowerOfThree(n / 3)\n",
    "\n",
    "# test\n",
    "sol = Solution()\n",
    "print(sol.isPowerOfThree(0))"
   ]
  },
  {
   "cell_type": "markdown",
   "metadata": {},
   "source": [
    "##### 2. Add Two Numbers / Medium"
   ]
  },
  {
   "cell_type": "code",
   "execution_count": null,
   "metadata": {},
   "outputs": [],
   "source": [
    "def addTwoNumbers(self, l1: Optional[ListNode], l2: Optional[ListNode]) -> Optional[ListNode]:\n",
    "        tmp = l1.val + l2.val\n",
    "        val = tmp if tmp < 10 else tmp % 10\n",
    "        update = 0 if tmp < 10 else tmp // 10\n",
    "        head = node = ListNode(val)\n",
    "        \n",
    "        while l1.next or l2.next or update > 0:\n",
    "            tmp = update\n",
    "            if l1.next:\n",
    "                tmp += l1.next.val\n",
    "                l1 = l1.next\n",
    "            if l2.next:\n",
    "                tmp += l2.next.val\n",
    "                l2 = l2.next\n",
    "                \n",
    "            val = tmp if tmp < 10 else tmp % 10\n",
    "            update = 0 if tmp < 10 else tmp // 10\n",
    "            node.next = ListNode(val)\n",
    "            node = node.next\n",
    "        \n",
    "        return head"
   ]
  }
 ],
 "metadata": {
  "kernelspec": {
   "display_name": "Python 3.10.5 64-bit ('3.10.5')",
   "language": "python",
   "name": "python3"
  },
  "language_info": {
   "codemirror_mode": {
    "name": "ipython",
    "version": 3
   },
   "file_extension": ".py",
   "mimetype": "text/x-python",
   "name": "python",
   "nbconvert_exporter": "python",
   "pygments_lexer": "ipython3",
   "version": "3.10.5"
  },
  "orig_nbformat": 4,
  "vscode": {
   "interpreter": {
    "hash": "921bf593e441f8b07ee0958360892e27077c037d06c3ac5fc1bc69a6c7337db7"
   }
  }
 },
 "nbformat": 4,
 "nbformat_minor": 2
}
