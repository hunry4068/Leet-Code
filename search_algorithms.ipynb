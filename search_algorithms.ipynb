{
 "cells": [
  {
   "cell_type": "markdown",
   "metadata": {},
   "source": [
    "# Linear Search\n",
    "\n",
    "go through all elements to find the target"
   ]
  },
  {
   "cell_type": "code",
   "execution_count": 3,
   "metadata": {},
   "outputs": [],
   "source": [
    "class LinearSearch:\n",
    "    def search(self, data: list[int], target: int) -> int:\n",
    "        result = -1\n",
    "        \n",
    "        left = 0\n",
    "        right = len(data) - 1\n",
    "        while left <= right:\n",
    "            if data[left] == target:\n",
    "                result = left\n",
    "                break\n",
    "            \n",
    "            if data[right] == target:\n",
    "                result = right\n",
    "                break\n",
    "                \n",
    "            left += 1\n",
    "            right -= 1\n",
    "                \n",
    "        return result"
   ]
  },
  {
   "cell_type": "code",
   "execution_count": 30,
   "metadata": {},
   "outputs": [
    {
     "name": "stdout",
     "output_type": "stream",
     "text": [
      "range spent 0.00019868900017172564S, enum spent 0.00018150500000047032S\n"
     ]
    }
   ],
   "source": [
    "import time\n",
    "import random\n",
    "\n",
    "data_len = 1000\n",
    "data = [random.randint(0, 999) for i in range(data_len)]\n",
    "\n",
    "# test range\n",
    "range_start = time.perf_counter()\n",
    "for i in range(0, data_len):\n",
    "    range_val = data[i]\n",
    "range_end = time.perf_counter()\n",
    "range_perf = range_end - range_start\n",
    "\n",
    "# test enumerate\n",
    "enum_start = time.perf_counter()\n",
    "for i, v in enumerate(data):\n",
    "    enum_val = v\n",
    "enum_end = time.perf_counter()\n",
    "enum_perf = enum_end - enum_start\n",
    "\n",
    "print(\"range spent {}S, enum spent {}S\".format(range_perf, enum_perf))"
   ]
  },
  {
   "cell_type": "markdown",
   "metadata": {},
   "source": [
    "# Binary Search\n",
    "\n",
    "<p style=\"color:red\">*for sorted data</p>\n",
    "recursively half the data until find the target"
   ]
  },
  {
   "cell_type": "code",
   "execution_count": 5,
   "metadata": {},
   "outputs": [],
   "source": [
    "class BinarySearch:\n",
    "    def search(self, data: list[int], target: int) -> int:\n",
    "        data_len = len(data)\n",
    "        idx_list = list(range(data_len))\n",
    "        \n",
    "        result = self.compare(data, idx_list, target)\n",
    "        return result\n",
    "        \n",
    "    def compare(self, data: list[int], idx_list: list[int], target: int) -> int:\n",
    "        idx_list_len = len(idx_list)\n",
    "        \n",
    "        if idx_list_len == 0:\n",
    "            return -1\n",
    "        \n",
    "        if idx_list_len == 1:\n",
    "            return idx_list[0] if data[idx_list[0]] == target else -1\n",
    "        \n",
    "        mid_idx = idx_list_len // 2\n",
    "        mid_idx_val = idx_list[mid_idx]\n",
    "        idx_list = idx_list[0:mid_idx] if target < data[mid_idx_val] else idx_list[mid_idx:idx_list_len]\n",
    "        return self.compare(data, idx_list, target)\n",
    "        \n",
    "    # from https://www.geeksforgeeks.org/binary-search/\n",
    "    def better_sol(self, data: list[int], left: int, right: int, target: int) -> int:\n",
    "        if right >= left:\n",
    "            # add left upon the middle of the rest space to get the exact middle of each run\n",
    "            mid = left + (right - left) // 2\n",
    "            \n",
    "            if data[mid] == target:\n",
    "                return mid\n",
    "            \n",
    "            if data[mid] > target:\n",
    "                return self.better_sol(data, left, mid - 1, target)\n",
    "            \n",
    "            if data[mid] < target:\n",
    "                return self.better_sol(data, mid + 1, right, target)\n",
    "        \n",
    "        else:\n",
    "            return -1"
   ]
  },
  {
   "cell_type": "markdown",
   "metadata": {},
   "source": [
    "# Jump Search\n",
    "\n",
    "<p style=\"color:red\">*for sorted data</p>\n",
    "recursively compare the element of jumped index with the target until the value is larger than the target, then apply linear search backward toward the previous jumped item"
   ]
  },
  {
   "cell_type": "code",
   "execution_count": 6,
   "metadata": {},
   "outputs": [],
   "source": [
    "import math\n",
    "\n",
    "class JumpSearch:\n",
    "    def search(self, data: list[int], target: int) -> int:\n",
    "        data_len = len(data)\n",
    "        step = int(math.sqrt(data_len))\n",
    "        idx = 0\n",
    "        \n",
    "        # 2022-05-16: new code inspired from expontential search approach\n",
    "        # check data[0] before jump\n",
    "        if data[idx] == target:\n",
    "            return 0\n",
    "        \n",
    "        # jump\n",
    "        while idx < data_len and data[idx] < target:\n",
    "            idx += step\n",
    "        # set left = previous step idx, right = current idx or last index \n",
    "        left = idx // 2\n",
    "        right = min(idx, data_len - 1)\n",
    "        return self.ln_search(data, left, right, target)\n",
    "        \n",
    "        # jump_idx = 0\n",
    "        \n",
    "        # # jump until the last block\n",
    "        # while jump_idx < data_len:\n",
    "        #     if data[jump_idx] >= target:\n",
    "        #         return self.ln_search(data, jump_idx - step, jump_idx, target)\n",
    "        #     jump_idx += step\n",
    "            \n",
    "        # # last block: from the last step to len(data), if no match return -1\n",
    "        # return self.ln_search(data, jump_idx - step, data_len - 1, target)\n",
    "                \n",
    "    def ln_search(self, data: list[int], start: int, end: int, target) -> int:\n",
    "        while start <= end:\n",
    "            if data[start] == target:\n",
    "                return start\n",
    "            start += 1\n",
    "        return -1"
   ]
  },
  {
   "cell_type": "markdown",
   "metadata": {},
   "source": [
    "# Interpolation Search\n",
    "\n",
    "<p style=\"color:red\">*for sorted data <b>with uniformly distributed values (linear distribution)</b></p>\n",
    "to deal with linear distributed data case, we can refer to binary search strategy, dividing the data into the pos item, left part, and right part. but instead of choosing the middle of data as split index, we apply linear formula to get the pos which will closer to left or right part depends on the left and right indexes"
   ]
  },
  {
   "cell_type": "code",
   "execution_count": 7,
   "metadata": {},
   "outputs": [],
   "source": [
    "class InterpolationSearch:\n",
    "    def search(self, data: list[int], left: int, right: int, target: int) -> int:\n",
    "        if (left <= right and target >= data[left] and target <= data[right]):\n",
    "            \n",
    "            # Let's assume that the elements of the array are linearly distributed.\n",
    "            # General equation of line: y = m*x + c.\n",
    "            # y is the value in the array and x is its index.\n",
    "\n",
    "            # Now putting value of lo, hi and x in the equation\n",
    "            # arr[hi] = m*hi+c - ---(1)\n",
    "            # arr[lo] = m*lo+c - ---(2)\n",
    "            # x = m*pos + c - ---(3)\n",
    "\n",
    "            # m = (arr[hi] - arr[lo]) / (hi - lo)\n",
    "\n",
    "            # subtracting eqxn(2) from (3)\n",
    "            # x - arr[lo] = m * (pos - lo)\n",
    "            # lo + (x - arr[lo])/m = pos\n",
    "            # pos = lo + (x - arr[lo]) * (hi - lo)/(arr[hi] - arr[lo])\n",
    "            pos = left + (target - data[left]) * (right - left) // (data[right] - data[left])\n",
    "            \n",
    "            if data[pos] == target:\n",
    "                return pos\n",
    "            \n",
    "            # target index must between pos+1 and right end\n",
    "            if data[pos] < target:\n",
    "                return self.search(data, pos + 1, right, target)\n",
    "            \n",
    "            # target index must between left end and pos-1\n",
    "            if data[pos] > target:\n",
    "                return self.search(data, left, pos -1, target)\n",
    "            \n",
    "        return -1"
   ]
  },
  {
   "cell_type": "markdown",
   "metadata": {},
   "source": [
    "# Exponential Search\n",
    "\n",
    "<p style=\"color:red\">*for sorted data</p>"
   ]
  },
  {
   "cell_type": "code",
   "execution_count": 8,
   "metadata": {},
   "outputs": [],
   "source": [
    "class ExponentialSearch:\n",
    "    def search(self, data: list[int], target: int) -> int:\n",
    "        data_len = len(data)\n",
    "        idx = 0\n",
    "        if data[idx] == target:\n",
    "            return 0\n",
    "        \n",
    "        idx = 1\n",
    "        while idx < data_len and data[idx] < target:\n",
    "            idx *= 2\n",
    "        \n",
    "        binary_search = BinarySearch()\n",
    "        return binary_search.better_sol(data, idx // 2, min(idx, data_len - 1), target)"
   ]
  },
  {
   "cell_type": "markdown",
   "metadata": {},
   "source": [
    "# Test"
   ]
  },
  {
   "cell_type": "code",
   "execution_count": 21,
   "metadata": {},
   "outputs": [
    {
     "name": "stdout",
     "output_type": "stream",
     "text": [
      "\n",
      "Linear search complete, target index: 17 \n",
      "Time spent: 7.65310005590436e-05\n",
      "\n",
      "Binary search complete, target index: 17 \n",
      "Time spent: 8.693000017956365e-05\n",
      "\n",
      "Jump search complete, target index: 17 \n",
      "Time spent: 7.6231000093685e-05\n",
      "\n",
      "Interpolation search complete, target index: 17 \n",
      "Time spent: 0.0001289470001211157\n",
      "\n",
      "Exponential search complete, target index: 17 \n",
      "Time spent: 7.877000007283641e-05\n"
     ]
    }
   ],
   "source": [
    "import time\n",
    "import random\n",
    "# test_data = [1, 5, 8, 9, 11, 16, 17, 18, 20, 21]\n",
    "# set() -> unique values\n",
    "# sorted() -> sorted list\n",
    "test_data = sorted(list(set(random.randint(0, 99) for i in range(100))))\n",
    "\n",
    "test_target = 25\n",
    "# print(\"test data: {} \\ntarget value: {}\".format(test_data, test_target))\n",
    "\n",
    "# linear research\n",
    "linear_search = LinearSearch()\n",
    "linear_search_s = time.perf_counter()\n",
    "linear_search_result = linear_search.search(test_data, test_target)\n",
    "linear_search_e = time.perf_counter()\n",
    "linear_search_perf = linear_search_e - linear_search_s\n",
    "print(\"\\nLinear search complete, target index: {} \\nTime spent: {}\".format(\n",
    "    linear_search_result, linear_search_perf))\n",
    "\n",
    "# binary research\n",
    "binary_search = BinarySearch()\n",
    "binary_search_s = time.perf_counter()\n",
    "# binary_search_result = binary_search.search(test_data, test_target) #original\n",
    "binary_search_result = binary_search.better_sol(test_data, 0, len(test_data) - 1, test_target) #sample\n",
    "binary_search_e = time.perf_counter()\n",
    "binary_search_perf = binary_search_e - binary_search_s\n",
    "print(\"\\nBinary search complete, target index: {} \\nTime spent: {}\".format(\n",
    "    binary_search_result, binary_search_perf))\n",
    "\n",
    "# jump research\n",
    "jump_search = JumpSearch()\n",
    "jump_search_s = time.perf_counter()\n",
    "jump_search_result = jump_search.search(test_data, test_target)\n",
    "jump_search_e = time.perf_counter()\n",
    "jump_search_perf = jump_search_e - jump_search_s\n",
    "print(\"\\nJump search complete, target index: {} \\nTime spent: {}\".format(\n",
    "    jump_search_result, jump_search_perf))\n",
    "\n",
    "# interpolation research\n",
    "interpolation_search = InterpolationSearch()\n",
    "interpolation_search_s = time.perf_counter()\n",
    "interpolation_search_result = interpolation_search.search(test_data, 0, len(test_data) - 1, test_target)\n",
    "interpolation_search_e = time.perf_counter()\n",
    "interpolation_search_perf = interpolation_search_e - interpolation_search_s\n",
    "print(\"\\nInterpolation search complete, target index: {} \\nTime spent: {}\".format(\n",
    "    interpolation_search_result, interpolation_search_perf))\n",
    "\n",
    "# expontential research\n",
    "exponential_search = ExponentialSearch()\n",
    "exponential_search_s = time.perf_counter()\n",
    "exponential_search_result = exponential_search.search(test_data, test_target)\n",
    "exponential_search_e = time.perf_counter()\n",
    "exponential_search_perf = exponential_search_e - exponential_search_s\n",
    "print(\"\\nExponential search complete, target index: {} \\nTime spent: {}\".format(\n",
    "    exponential_search_result, exponential_search_perf))\n",
    "\n",
    "\n"
   ]
  }
 ],
 "metadata": {
  "interpreter": {
   "hash": "ddd249a19a5a8256c1b4ef01c1f4ec5080b1ce9b0adc4e0df1ac5fed1c1f55cb"
  },
  "kernelspec": {
   "display_name": "Python 3.10.4 64-bit ('venv-leetcode')",
   "language": "python",
   "name": "python3"
  },
  "language_info": {
   "codemirror_mode": {
    "name": "ipython",
    "version": 3
   },
   "file_extension": ".py",
   "mimetype": "text/x-python",
   "name": "python",
   "nbconvert_exporter": "python",
   "pygments_lexer": "ipython3",
   "version": "3.10.4"
  },
  "orig_nbformat": 4
 },
 "nbformat": 4,
 "nbformat_minor": 2
}
